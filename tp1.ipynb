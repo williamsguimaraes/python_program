{
 "cells": [
  {
   "cell_type": "markdown",
   "metadata": {},
   "source": [
    "### Exercícios do TP1 "
   ]
  },
  {
   "cell_type": "markdown",
   "metadata": {},
   "source": [
    "1.Crie um programa que peça ao usuário para inserir dois números e, em seguida, calcule e exiba a soma, subtração, multiplicação, divisão e divisão inteira desses números."
   ]
  },
  {
   "cell_type": "code",
   "execution_count": null,
   "metadata": {},
   "outputs": [],
   "source": [
    "# Calculos matemáticos realizados com dois números digitados pelo usuário.\n",
    "numero1 = int(input(\"Digite um número.\"))\n",
    "numero2 = int(input(\"Digite outro número.\"))\n",
    "soma = numero1 + numero2\n",
    "sub = numero1 - numero2\n",
    "mult = numero1 * numero2\n",
    "div = numero1 / numero2\n",
    "divInt = numero1 // numero2\n",
    "\n",
    "print(f\"O resultado da soma é {soma}\")\n",
    "print(f\"O resultado da subtração é {sub}\")\n",
    "print(f\"O resultado da multiplicação é {mult}\")\n",
    "print(f\"O resultado da divisão é {div}\")\n",
    "print(f\"O resultado da divisão inteira é {divInt}\")"
   ]
  },
  {
   "cell_type": "markdown",
   "metadata": {},
   "source": [
    "2.Faça um programa que converta um número fornecido de minutos em horas e minutos, e depois faça o inverso, convertendo horas e minutos de volta para minutos totais."
   ]
  },
  {
   "cell_type": "code",
   "execution_count": null,
   "metadata": {},
   "outputs": [],
   "source": [
    "# Solicitar o número de minutos e informar quantas horas e minutos isso representa.\n",
    "minutos_fornecidos = int(input(\"Digite a quantidade de minutos.\"))\n",
    "horas = minutos_fornecidos // 60\n",
    "minutos = minutos_fornecidos % 60\n",
    "print(f\"{minutos_fornecidos} minutos é igual a {\n",
    "      horas} horas e {minutos} minutos.\")\n",
    "\n",
    "# Solicita ao usuário que informe o número de horas e o número de minutos.\n",
    "horas = int(input(\"Digite o número de horas: \"))\n",
    "minutos = int(input(\"Digite o número de minutos: \"))\n",
    "minutos_totais = horas * 60 + minutos\n",
    "print(f\"O total em minutos é {minutos_totais}.\")"
   ]
  },
  {
   "cell_type": "markdown",
   "metadata": {},
   "source": [
    "3.Escreva um programa que receba dois nomes de usuário e os combine de maneira criativa para formar um novo nome."
   ]
  },
  {
   "cell_type": "code",
   "execution_count": 14,
   "metadata": {},
   "outputs": [
    {
     "name": "stdout",
     "output_type": "stream",
     "text": [
      "O novo nome é: wilise\n"
     ]
    }
   ],
   "source": [
    "nome1 = input(\"Digite o primeiro nome: \")\n",
    "nome2 = input(\"Digite o segundo nome: \")\n",
    "\n",
    "nome_combinado = nome1[:len(nome1)//2] + nome2[len(nome2)//2:]\n",
    "print(f\"O novo nome é: {nome_combinado}\")"
   ]
  },
  {
   "cell_type": "markdown",
   "metadata": {},
   "source": [
    "4.Desenvolva um programa que peça ao usuário para escolher uma operação (adição, subtração, multiplicação, divisão) e dois números, e então execute a operação escolhida com os números."
   ]
  },
  {
   "cell_type": "code",
   "execution_count": 10,
   "metadata": {},
   "outputs": [
    {
     "name": "stdout",
     "output_type": "stream",
     "text": [
      "O resultado é: 16.0\n"
     ]
    }
   ],
   "source": [
    "\"\"\" \n",
    "Este código apresenta uma alternativa para o uso da estrutura de controle 'switch-case' que não existe em Python\n",
    "Utilizando dicionário para mapear as operações para funções.\n",
    "\"\"\"\n",
    "\n",
    "\n",
    "def adicao(x, y):\n",
    "    return x + y\n",
    "\n",
    "\n",
    "def subtracao(x, y):\n",
    "    return x - y\n",
    "\n",
    "\n",
    "def multiplicacao(x, y):\n",
    "    return x * y\n",
    "\n",
    "\n",
    "def divisao(x, y):\n",
    "    if y != 0:\n",
    "        return x / y\n",
    "    else:\n",
    "        print(\"Divisão por zero não é permitida.\")\n",
    "        return None\n",
    "\n",
    "\n",
    "operadores = {\"+\": adicao, \"-\": subtracao, \"*\": multiplicacao, \"/\": divisao}\n",
    "while True:\n",
    "    operacao = input(\n",
    "        \"Digite a operação desejada (+, -, *, /) ou digite sair: \".upper())\n",
    "    if operacao == \"sair\":\n",
    "        break\n",
    "    if operacao in operadores:\n",
    "        x = float(input(\"Digite o primeiro número: \"))\n",
    "        y = float(input(\"Digite o segundo número: \"))\n",
    "        resultado = operadores[operacao](x, y)\n",
    "        print(f\"O resultado é: {resultado}\")\n",
    "    else:\n",
    "        print(\"Operação inválida.\")"
   ]
  },
  {
   "cell_type": "markdown",
   "metadata": {},
   "source": [
    "5.Crie um programa que peça ao usuário seu nome e sobrenome usando input e, em seguida, combine-os para formar uma saudação personalizada."
   ]
  },
  {
   "cell_type": "code",
   "execution_count": null,
   "metadata": {},
   "outputs": [],
   "source": [
    "import datetime\n",
    "\n",
    "nome = input(\"Digite o seu nome: \")\n",
    "sobre_nome = input(\"Digite o seu sobrenome: \")\n",
    "full_name = nome + \" \" + sobre_nome.title()\n",
    "hora_atual = datetime.datetime.now().hour\n",
    "if 6 <= hora_atual < 12:\n",
    "    saudacao = \"tenha um bom dia!\"\n",
    "elif 12 <= hora_atual < 18:\n",
    "    saudacao = \"tenha uma boa tarde\"\n",
    "else:\n",
    "    saudacao = \"tenha uma boa noite\"\n",
    "print(f\"{full_name}, {saudacao}.\")"
   ]
  },
  {
   "cell_type": "markdown",
   "metadata": {},
   "source": [
    "6.Escreva um programa onde o usuário deve adivinhar um número secreto. O programa deve dizer se o palpite está correto, muito alto ou muito baixo."
   ]
  },
  {
   "cell_type": "code",
   "execution_count": null,
   "metadata": {},
   "outputs": [],
   "source": [
    "import random\n",
    "\n",
    "\n",
    "usuario = int(input(\"Adivinhe o número sorteado? \"))\n",
    "numero_sorteado = random.randint(0, 10000)\n",
    "\n",
    "if usuario == numero_sorteado:\n",
    "    print(\"Parabéns! Você acertou!\")\n",
    "elif usuario < numero_sorteado:\n",
    "    print(\" muito baixo\")\n",
    "else:\n",
    "    print(\"muito alto.\")"
   ]
  },
  {
   "cell_type": "markdown",
   "metadata": {},
   "source": [
    "7.Faça um programa que calcule o Índice de Massa Corporal (IMC) do usuário e forneça feedback com base no valor (por exemplo, abaixo do peso, peso normal, sobrepeso)."
   ]
  },
  {
   "cell_type": "code",
   "execution_count": null,
   "metadata": {},
   "outputs": [],
   "source": [
    "altura = float(input(\"Digite sua altura: \"))\n",
    "peso = float(input(\"Digite seu peso: \"))\n",
    "imc = peso / altura ** 2\n",
    "if imc < 18.5:\n",
    "    print(\"Abaixo do peso\")\n",
    "elif 18.6 <= imc < 24.9:\n",
    "    print(\"Peso normal\")\n",
    "elif 25 <= imc < 29.9:\n",
    "    print(\"Sobrepeso\")\n",
    "elif 30 <= imc < 34.9:\n",
    "    print(\"Obesidade grau I\")\n",
    "elif 35 <= imc < 39.9:\n",
    "    print(\"Obesidade grau II\")\n",
    "elif imc >= 40:\n",
    "    print(\"Obesidade grau III\")"
   ]
  },
  {
   "cell_type": "markdown",
   "metadata": {},
   "source": [
    "8.Crie um programa que pergunte a idade do usuário e verifique se ele é maior de idade ou não."
   ]
  },
  {
   "cell_type": "code",
   "execution_count": null,
   "metadata": {},
   "outputs": [],
   "source": [
    "idade = int(input(\"Digite sua idade: \"))\n",
    "if idade < 18:\n",
    "    print(\"Você é menor de idade.\")\n",
    "else:\n",
    "    print(\"Você é maior de idade.\")"
   ]
  },
  {
   "cell_type": "markdown",
   "metadata": {},
   "source": [
    "9.Desenvolva um programa que aplique descontos diferentes com base no valor da compra: desconto de 10% para compras acima de R$100, 15% para compras acima de R$200, etc."
   ]
  },
  {
   "cell_type": "code",
   "execution_count": null,
   "metadata": {},
   "outputs": [],
   "source": [
    "valor_compra = float(input(\"Digite o valor da compra:R$ \"))\n",
    "if valor_compra >= 100:\n",
    "    desconto = valor_compra * 0.10\n",
    "    valor_pagar = valor_compra - desconto\n",
    "    print(f\"O valor final com desconto aplicado é: R$ {valor_pagar:.2f}\")\n",
    "elif valor_compra >= 200:\n",
    "    desconto = valor_compra * 0.15\n",
    "    valor_pagar = valor_compra - desconto\n",
    "    print(f\"O valor final com desconto aplicado é: R$ {valor_pagar:.2f}\")\n",
    "else:\n",
    "    desconto = 0.0\n",
    "    print(f\"Compras com valores abaixo de R$100 não possuem descontos.\")"
   ]
  },
  {
   "cell_type": "markdown",
   "metadata": {},
   "source": [
    "10.Escreva um programa que combine elementos aleatórios de listas diferentes (personagens, ações, locais) para criar uma história curiosa."
   ]
  },
  {
   "cell_type": "code",
   "execution_count": 28,
   "metadata": {},
   "outputs": [
    {
     "name": "stdout",
     "output_type": "stream",
     "text": [
      "Vegeta voa na montanha.\n"
     ]
    }
   ],
   "source": [
    "personagens = [\"Goku\", \"Vegeta\", \"Gohan\", \"Piccolo\", \"Kuririn\",\n",
    "               \"Yamcha\", \"Tenshinhan\", \"Chaozu\", \"Mestre Kame\", \"Bulma\"]\n",
    "acoes = [\"luta\", \"treina\", \"come\", \"descansa\",\n",
    "         \"medita\", \"voa\", \"corre\", \"pula\", \"dorme\", \"sonha\"]\n",
    "locais = [\"na floresta\", \"na montanha\", \"na cidade\", \"no deserto\",\n",
    "          \"na praia\", \"no templo\", \"na casa\", \"no campo\", \"no espaço\", \"no inferno\"]\n",
    "\n",
    "personagem = random.choice(personagens)\n",
    "acao = random.choice(acoes)\n",
    "local = random.choice(locais)\n",
    "\n",
    "print(f\"{personagem} {acao} {local}.\")"
   ]
  },
  {
   "cell_type": "markdown",
   "metadata": {},
   "source": [
    "11.Faça um programa que simule o lançamento de um dado. O usuário deve escolher quantos dados jogar e o programa deve exibir os resultados."
   ]
  },
  {
   "cell_type": "code",
   "execution_count": null,
   "metadata": {},
   "outputs": [],
   "source": [
    "import random\n",
    "\n",
    "\n",
    "def simule_lancamento(numero_dados):\n",
    "    resultado = []\n",
    "    for _ in range(numero_dados):\n",
    "        resultado.append(random.randint(1, 6))\n",
    "    return resultado\n",
    "\n",
    "\n",
    "numero_dados = int(input(\"Digite o número de dados a serem lançados: \"))\n",
    "if numero_dados <= 0:\n",
    "    print(\"Número inválido.\")\n",
    "resultado = simule_lancamento(numero_dados)\n",
    "print(f\"O resultado do lançamento foi: {resultado}\")"
   ]
  },
  {
   "cell_type": "markdown",
   "metadata": {},
   "source": [
    "12.Crie um programa que classifique as palavras inseridas pelo usuário como curtas (menos de 5 letras) ou longas (5 letras ou mais)."
   ]
  },
  {
   "cell_type": "code",
   "execution_count": 39,
   "metadata": {},
   "outputs": [
    {
     "name": "stdout",
     "output_type": "stream",
     "text": [
      "A palavra é curta.\n"
     ]
    }
   ],
   "source": [
    "usuario = input(\"Digite uma palavra: \")\n",
    "palavra_usuario = len(usuario)\n",
    "if palavra_usuario < 5:\n",
    "    print(\"A palavra é curta.\")\n",
    "else:\n",
    "    print(\"A palavra é longa.\")"
   ]
  },
  {
   "cell_type": "markdown",
   "metadata": {},
   "source": [
    "13.Desenvolva um programa que verifique se uma palavra ou frase inserida pelo usuário é um palíndromo (lê-se igual de trás para frente)."
   ]
  },
  {
   "cell_type": "code",
   "execution_count": null,
   "metadata": {},
   "outputs": [],
   "source": [
    "# Definimos que - palavra - não terá espaços e será convertida para minúsculas\n",
    "def palindromo(palavra):\n",
    "    palavra = palavra.replace(\" \", \"\").lower()\n",
    "    return palavra == palavra[::-1]\n",
    "\n",
    "\n",
    "palavra = input(\"Digite uma palavra: \")\n",
    "if palindromo(palavra):\n",
    "    print(f\"A palavra, {palavra} é um palíndromo.\")\n",
    "else:\n",
    "    print(f\"A palavra, {palavra} não é um palíndromo.\")"
   ]
  },
  {
   "cell_type": "markdown",
   "metadata": {},
   "source": [
    "14.Escreva um programa que permita ao usuário votar em três opções diferentes e, no final, exiba o número de votos de cada opção."
   ]
  },
  {
   "cell_type": "code",
   "execution_count": null,
   "metadata": {},
   "outputs": [],
   "source": [
    "escolhas = {\n",
    "    1: \"Hibrido\",\n",
    "    2: \"Home_Office\",\n",
    "    3: \"Presencial\"\n",
    "}\n",
    "\n",
    "votos = {\n",
    "    \"Hibrido\": 0,\n",
    "    \"Home_Office\": 0,\n",
    "    \"Presencial\": 0\n",
    "}\n",
    "while True:\n",
    "    try:\n",
    "        escolha_usuario = int(input(\"Escolha o tipo de trabalho digitando: 1 - Hibrido, 2 - Home_Office, 3 - Presencial, 4 - Sair: \"))\n",
    "        if escolha_usuario in escolhas:\n",
    "            print(f\"Você escolheu: {escolhas[escolha_usuario]}\")\n",
    "            votos[escolhas[escolha_usuario]] += 1\n",
    "        elif escolha_usuario == 4:\n",
    "            break\n",
    "        else:\n",
    "            print(\"Escolha inválida.\")\n",
    "    except ValueError:\n",
    "        print(\"Escolha inválida. Digite um número válido.\")\n",
    "\n",
    "for voto in votos.items():\n",
    "    print(f\"{voto[0]}: {voto[1]} votos.\")"
   ]
  },
  {
   "cell_type": "markdown",
   "metadata": {},
   "source": [
    "15.Crie um programa que apresente ao usuário uma série de escolhas (como em uma história) e conduza a diferentes resultados com base nessas escolhas."
   ]
  },
  {
   "cell_type": "code",
   "execution_count": 62,
   "metadata": {},
   "outputs": [
    {
     "name": "stdout",
     "output_type": "stream",
     "text": [
      "Você não escolheu uma opção válida. Você fica perdido na floresta para sempre.\n"
     ]
    }
   ],
   "source": [
    "escolhas = {\n",
    "    'esquerda': \"Você está em uma floresta encantada onde duas trilhas divergem.\\nVocê escolheu ir para a esquerda, o caminho da casa da bruxa!\\nEla faz um feitiço e você se transforma em um sapo.\",\n",
    "    'direita': \"Você está em uma floresta encantada onde duas trilhas divergem.\\nVocê escolheu ir para a direita, o caminho da casa das fadas! Elas concedem a você três desejos.\"\n",
    "}\n",
    "\n",
    "escolha = input(\"Digite 'esquerda' ou 'direita': \")\n",
    "\n",
    "if escolha in escolhas:\n",
    "    print(escolhas[escolha])\n",
    "else:\n",
    "    print(\"Você não escolheu uma opção válida. Você fica perdido na floresta para sempre.\")"
   ]
  }
 ],
 "metadata": {
  "kernelspec": {
   "display_name": "Python 3",
   "language": "python",
   "name": "python3"
  },
  "language_info": {
   "codemirror_mode": {
    "name": "ipython",
    "version": 3
   },
   "file_extension": ".py",
   "mimetype": "text/x-python",
   "name": "python",
   "nbconvert_exporter": "python",
   "pygments_lexer": "ipython3",
   "version": "3.12.1"
  }
 },
 "nbformat": 4,
 "nbformat_minor": 2
}
